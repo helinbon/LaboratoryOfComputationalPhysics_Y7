{
 "cells": [
  {
   "cell_type": "markdown",
   "metadata": {},
   "source": [
    "## Pandas analysis\n",
    "\n",
    "This exercise consists in analyzing a dataset containg timing information from a series of Time-to-Digital-Converters (TDC) implemented in a couple of FPGAs. Each measurement (i.e. each row of the input file) consists of a flag that specifies the type of message ('HEAD', which in this case is always 1), two addresses of the TDC providing the signal ('FPGA' and 'TDC_CHANNEL'), and the timing information ('ORBIT_CNT', 'BX_COUNTER', and 'TDC_MEAS'). Each TDC count corresponds to 25/30 ns, whereas a unit of BX_COUNTER corresponds to 25 ns, and the ORBIT_CNT is increased every 'x' BX_COUNTER. This allows to store the time in a similar way to hours, minutes and seconds."
   ]
  },
  {
   "cell_type": "code",
   "execution_count": null,
   "metadata": {},
   "outputs": [],
   "source": [
    "# If you didn't download it yet, please get the relevant file now!\n",
    "!wget https://www.dropbox.com/s/xvjzaxzz3ysphme/data_000637.txt -P ~/data/"
   ]
  },
  {
   "cell_type": "markdown",
   "metadata": {},
   "source": [
    "1\\. Create a Pandas DataFrame reading N rows of the 'data_000637.txt' dataset. Choose N to be smaller than or equal to the maximum number of rows and larger that 10k.\n",
    "\n",
    "2\\. Find out the number of BX in a ORBIT (the value 'x').\n",
    "\n",
    "3\\. Find out how much the data taking lasted. You can either make an estimate based on the fraction of the measurements (rows) you read, or perform this check precisely by reading out the whole dataset.\n",
    "\n",
    "4\\. Create a new column with the absolute time in ns (as a combination of the other three columns with timing information).\n",
    "\n",
    "5\\. Replace the values (all 1) of the HEAD column randomly with 0 or 1.\n",
    "\n",
    "6\\. Create a new DataFrame that contains only the rows with HEAD=1.\n",
    "\n",
    "7\\. Make two occupancy plots (one for each FPGA), i.e. plot the number of counts per TDC channel\n",
    "\n",
    "8\\. Use the groupby method to find out the noisy channels, i.e. the TDC channels with most counts (say the top 3)\n",
    "\n",
    "9\\. Count the number of unique orbits. Count the number of unique orbits with at least one measurement from TDC_CHANNEL=139"
   ]
  },
  {
   "cell_type": "code",
   "execution_count": 27,
   "metadata": {},
   "outputs": [
    {
     "name": "stdout",
     "output_type": "stream",
     "text": [
      "        HEAD  FPGA  TDC_CHANNEL   ORBIT_CNT  BX_COUNTER  TDC_MEAS\n",
      "0          1     0          123  3869200167        2374        26\n",
      "1          1     0          124  3869200167        2374        27\n",
      "2          1     0           63  3869200167        2553        28\n",
      "3          1     0           64  3869200167        2558        19\n",
      "4          1     0           64  3869200167        2760        25\n",
      "...      ...   ...          ...         ...         ...       ...\n",
      "999995     1     0           62  3869209011        2560        29\n",
      "999996     1     0           51  3869209011        2561        12\n",
      "999997     1     0           61  3869209011        2562         2\n",
      "999998     1     0           50  3869209011        2563         4\n",
      "999999     1     0           60  3869209011        2688        25\n",
      "\n",
      "[1000000 rows x 6 columns]\n",
      "        HEAD  FPGA  TDC_CHANNEL   ORBIT_CNT  BX_COUNTER  TDC_MEAS  \\\n",
      "0          1     0          123  3869200167        2374        26   \n",
      "1          1     0          124  3869200167        2374        27   \n",
      "2          1     0           63  3869200167        2553        28   \n",
      "3          1     0           64  3869200167        2558        19   \n",
      "4          1     0           64  3869200167        2760        25   \n",
      "...      ...   ...          ...         ...         ...       ...   \n",
      "999995     1     0           62  3869209011        2560        29   \n",
      "999996     1     0           51  3869209011        2561        12   \n",
      "999997     1     0           61  3869209011        2562         2   \n",
      "999998     1     0           50  3869209011        2563         4   \n",
      "999999     1     0           60  3869209011        2688        25   \n",
      "\n",
      "                   x  \n",
      "0       1.629823e+06  \n",
      "1       1.629823e+06  \n",
      "2       1.515550e+06  \n",
      "3       1.512588e+06  \n",
      "4       1.401884e+06  \n",
      "...              ...  \n",
      "999995  1.511410e+06  \n",
      "999996  1.510820e+06  \n",
      "999997  1.510230e+06  \n",
      "999998  1.509641e+06  \n",
      "999999  1.439438e+06  \n",
      "\n",
      "[1000000 rows x 7 columns]\n",
      "\n"
     ]
    }
   ],
   "source": [
    "import pandas as pd\n",
    "import csv\n",
    "\n",
    "df = pd.read_csv(open(\"./../data/data_000637.txt\"), nrows = 1000000)\n",
    "print(df)\n",
    "df[\"x\"] = df[\"ORBIT_CNT\"] / df[\"BX_COUNTER\"]\n",
    "print(df)\n",
    "print(\"\")\n",
    "#\n"
   ]
  },
  {
   "cell_type": "code",
   "execution_count": null,
   "metadata": {},
   "outputs": [],
   "source": []
  }
 ],
 "metadata": {
  "kernelspec": {
   "display_name": "Python 3 (ipykernel)",
   "language": "python",
   "name": "python3"
  },
  "language_info": {
   "codemirror_mode": {
    "name": "ipython",
    "version": 3
   },
   "file_extension": ".py",
   "mimetype": "text/x-python",
   "name": "python",
   "nbconvert_exporter": "python",
   "pygments_lexer": "ipython3",
   "version": "3.12.4"
  }
 },
 "nbformat": 4,
 "nbformat_minor": 4
}
