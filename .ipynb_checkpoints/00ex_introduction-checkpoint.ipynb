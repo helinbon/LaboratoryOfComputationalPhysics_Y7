{
 "cells": [
  {
   "cell_type": "markdown",
   "metadata": {},
   "source": [
    "1. The MickeyMouse problem\n",
    "\n",
    "a) Write a program that prints the numbers from 1 to 100. But for multiples of 3 print `Mickey` instead of the corresponding number and for the multiples of 5 print `Mouse`. For numbers which are multiples of both three and five print `MickeyMouse`\n",
    "\n",
    "b) Put the result in a tuple and substitute `Mickey` with `Donald` and `Mouse` with `Duck`"
   ]
  },
  {
   "cell_type": "code",
   "execution_count": 191,
   "metadata": {},
   "outputs": [
    {
     "name": "stdout",
     "output_type": "stream",
     "text": [
      "(1, 2, 'Donald', 4, 'duck', 'Donald', 7, 8, 'Donald', 'duck', 11, 'Donald', 13, 14, 'MickeyMouse', 16, 17, 'Donald', 19, 'duck', 'Donald', 22, 23, 'Donald', 'duck', 26, 'Donald', 28, 29, 'MickeyMouse', 31, 32, 'Donald', 34, 'duck', 'Donald', 37, 38, 'Donald', 'duck', 41, 'Donald', 43, 44, 'MickeyMouse', 46, 47, 'Donald', 49, 'duck', 'Donald', 52, 53, 'Donald', 'duck', 56, 'Donald', 58, 59, 'MickeyMouse', 61, 62, 'Donald', 64, 'duck', 'Donald', 67, 68, 'Donald', 'duck', 71, 'Donald', 73, 74, 'MickeyMouse', 76, 77, 'Donald', 79, 'duck', 'Donald', 82, 83, 'Donald', 'duck', 86, 'Donald', 88, 89, 'MickeyMouse', 91, 92, 'Donald', 94, 'duck', 'Donald', 97, 98, 'Donald', 'duck')\n"
     ]
    }
   ],
   "source": [
    "x = [i for i in range(101)]\n",
    "for i in range(101):\n",
    "    if (i in x[::3]) and (i in x[::5]):\n",
    "        x[i] = \"MickeyMouse\"\n",
    "    elif i in x[::3]:\n",
    "        x[i] = \"Mickey\"\n",
    "    elif i in x[::5]:\n",
    "        x[i] = \"Mouse\"\n",
    "x = x[1:]\n",
    "#########\n",
    "for i in range(100):\n",
    "    if x[i]   == \"Mickey\":\n",
    "        x[i]   = \"Donald\"\n",
    "    elif x[i] == \"Mouse\":\n",
    "        x[i]   = \"duck\"\n",
    "#######################\n",
    "x = tuple(x)\n",
    "print(x)"
   ]
  },
  {
   "cell_type": "markdown",
   "metadata": {},
   "source": [
    "2\\. The swap function\n",
    "\n",
    "Write a function that swap the values of two input variables x and y (whatever the type). Try to do that also without a temporary variable"
   ]
  },
  {
   "cell_type": "code",
   "execution_count": 47,
   "metadata": {},
   "outputs": [],
   "source": [
    "def f(x,y):\n",
    "    y, x = x, y\n",
    "    return(x,y)"
   ]
  },
  {
   "cell_type": "markdown",
   "metadata": {},
   "source": [
    "3\\. Computing the distance\n",
    "\n",
    "Write a function that calculates and returns the euclidean distance between two points *u* and *v*, where *u* and *v* are both 2-tuples *(x,y)*. For example, if *u=(3,0)* and *v=(0,4)*, the function should return 5"
   ]
  },
  {
   "cell_type": "code",
   "execution_count": 61,
   "metadata": {},
   "outputs": [],
   "source": [
    "def distance(u,v):\n",
    "    try:\n",
    "        d = ((u[0]-v[0])**2 + (u[1]-v[1])**2)**(1/2)\n",
    "        return(d)\n",
    "    except:\n",
    "        print(\"'u' and 'v' not tuples\")\n",
    "#######################################"
   ]
  },
  {
   "cell_type": "markdown",
   "metadata": {},
   "source": [
    "4\\. Counting letters\n",
    "\n",
    "Write a program to calculate the number of times each character occurs in a given string *s*. Ignore differneces in capitalization"
   ]
  },
  {
   "cell_type": "code",
   "execution_count": 7,
   "metadata": {},
   "outputs": [
    {
     "name": "stdout",
     "output_type": "stream",
     "text": [
      "[[2, 'w'], [17, 'r'], [14, 'i'], [19, 't'], [22, 'e'], [41, ' '], [7, 'a'], [8, 'p'], [13, 'o'], [1, 'g'], [12, 'm'], [9, 'h'], [10, 'n'], [9, 's'], [9, 'u'], [5, 'b'], [10, 'f'], [2, '1'], [2, '0'], [2, '.'], [6, 'l'], [3, 'c'], [2, 'k'], [2, 'y'], [3, 'd'], [2, 'v']]\n",
      "{'e': 22, 'i': 14, 't': 19, 'b': 5, 'd': 3, 's': 9, 'w': 2, 'v': 2, 'o': 13, 'h': 9, ' ': 41, '.': 2, 'y': 2, 'l': 6, 'c': 3, 'k': 2, 'n': 10, 'f': 10, 'g': 1, 'a': 7, 'm': 12, 'u': 9, '0': 2, 'r': 17, 'p': 8, '1': 2}\n"
     ]
    }
   ],
   "source": [
    "s_copy = s =\"Write a program that prints the numbers from 1 to 100. \\\n",
    "But for multiples of three print Mickey instead of the number and for the multiples of five print Mouse. \\\n",
    "For numbers which are multiples of both three and five print MickeyMouse\"\n",
    "\n",
    "s_copy, s  = s_copy.lower(), s.lower()\n",
    "counts = []\n",
    "while True:\n",
    "    tmp_char  = s[0]\n",
    "    counts   += [[0, tmp_char]]\n",
    "    tmp_index = s.find(tmp_char)\n",
    "    while (tmp_index >= 0):\n",
    "        counts[-1][0] += 1\n",
    "        s = s[0:tmp_index] + s[(1 + tmp_index):]\n",
    "        tmp_index = s.find(tmp_char)\n",
    "    ################################\n",
    "    if (len(s) == 0): break\n",
    "###########################\n",
    "print(counts)\n",
    "#############\n",
    "#\n",
    "#\n",
    "#\n",
    "# SHORTEST VERSION\n",
    "counts = {x : s_copy.count(x) for x in set(s_copy)}\n",
    "print(counts)"
   ]
  },
  {
   "cell_type": "markdown",
   "metadata": {},
   "source": [
    "5\\. Isolating the unique\n",
    "\n",
    "Write a function that determines and count the unique numbers in the list *l*"
   ]
  },
  {
   "cell_type": "code",
   "execution_count": 9,
   "metadata": {},
   "outputs": [
    {
     "name": "stdout",
     "output_type": "stream",
     "text": [
      "37 of 80\n",
      "[58, 74, 96, 64, 10, 24, 19, 33, 86, 99, 18, 47, 88, 55, 54, 8, 79, 81, 57, 37, 1, 9, 95, 90, 98, 39, 16, 82, 92, 41, 30, 94, 5, 72, 87, 75, 53]\n"
     ]
    }
   ],
   "source": [
    "l = [36, 45, 58, 3, 74, 96, 64, 45, 31, 10, 24, 19, 33, 86, 99, 18, 63, 70, 85,\n",
    " 85, 63, 47, 56, 42, 70, 84, 88, 55, 20, 54, 8, 56, 51, 79, 81, 57, 37, 91,\n",
    " 1, 84, 84, 36, 66, 9, 89, 50, 42, 91, 50, 95, 90, 98, 39, 16, 82, 31, 92, 41,\n",
    " 45, 30, 66, 70, 34, 85, 94, 5, 3, 36, 72, 91, 84, 34, 87, 75, 53, 51, 20, 89, 51, 20]\n",
    "\n",
    "count = 0\n",
    "for i in range(len(l)):\n",
    "    tmp = l[0:i] + l[(1 + i):]\n",
    "    if l[i] not in tmp: count += 1\n",
    "##################################\n",
    "print(\"%1d of %1d\" %(count, len(l)))\n",
    "####################################\n",
    "#\n",
    "#\n",
    "#\n",
    "# SHORTEST VERSION\n",
    "uniques = [x for x in l if l.count(x) == 1]\n",
    "print(uniques)"
   ]
  },
  {
   "cell_type": "markdown",
   "metadata": {},
   "source": [
    "6\\. Combination of functions\n",
    "\n",
    "Write two functions - one that returns the square of a number, and one that returns the cube. Now write a third function that returns the number raised to the 6th power using the two previous functions."
   ]
  },
  {
   "cell_type": "code",
   "execution_count": 89,
   "metadata": {},
   "outputs": [],
   "source": [
    "def square(x):\n",
    "    return(x**2)\n",
    "################\n",
    "def cube(x):\n",
    "    return(x**3)\n",
    "################\n",
    "def raised6(x):\n",
    "    return(square(cube(x)))\n",
    "###########################"
   ]
  },
  {
   "cell_type": "markdown",
   "metadata": {},
   "source": [
    "7\\. Cubes\n",
    "\n",
    "Create a list of the cubes of x for x in *[0, 10]* using:\n",
    "\n",
    "a) a for loop\n",
    "\n",
    "b) a list comprehension"
   ]
  },
  {
   "cell_type": "code",
   "execution_count": 159,
   "metadata": {},
   "outputs": [
    {
     "name": "stdout",
     "output_type": "stream",
     "text": [
      "[0, 1, 8, 27, 64, 125, 216, 343, 512, 729, 1000] [0, 1, 8, 27, 64, 125, 216, 343, 512, 729, 1000]\n"
     ]
    }
   ],
   "source": [
    "x = []\n",
    "for i in range(11):\n",
    "    x += [i**3]\n",
    "###############\n",
    "y = [i**3 for i in range(11)]\n",
    "#############################\n",
    "print(x,y)"
   ]
  },
  {
   "cell_type": "markdown",
   "metadata": {},
   "source": [
    "8\\. Nested list comprehension\n",
    "\n",
    "A Pythagorean triple is an integer solution to the Pythagorean theorem $a^2+b^2=c^2$. The first Pythagorean triple is (3,4,5). Find and put in a tuple all unique Pythagorean triples for the positive integers a, b and c less than 100."
   ]
  },
  {
   "cell_type": "code",
   "execution_count": 19,
   "metadata": {},
   "outputs": [
    {
     "name": "stdout",
     "output_type": "stream",
     "text": [
      "[(3, 4, 5), (5, 12, 13), (6, 8, 10), (7, 24, 25), (8, 15, 17), (9, 12, 15), (9, 40, 41), (10, 24, 26), (11, 60, 61), (12, 16, 20), (12, 35, 37), (13, 84, 85), (14, 48, 50), (15, 20, 25), (15, 36, 39), (16, 30, 34), (16, 63, 65), (18, 24, 30), (18, 80, 82), (20, 21, 29), (20, 48, 52), (21, 28, 35), (21, 72, 75), (24, 32, 40), (24, 45, 51), (24, 70, 74), (25, 60, 65), (27, 36, 45), (28, 45, 53), (28, 96, 100), (30, 40, 50), (30, 72, 78), (32, 60, 68), (33, 44, 55), (33, 56, 65), (35, 84, 91), (36, 48, 60), (36, 77, 85), (39, 52, 65), (39, 80, 89), (40, 42, 58), (40, 75, 85), (42, 56, 70), (45, 60, 75), (48, 55, 73), (48, 64, 80), (51, 68, 85), (54, 72, 90), (57, 76, 95), (60, 63, 87), (60, 80, 100), (65, 72, 97)]\n",
      "[[3, 4, 5], [5, 12, 13], [6, 8, 10], [7, 24, 25], [8, 15, 17], [9, 12, 15], [9, 40, 41], [10, 24, 26], [11, 60, 61], [12, 16, 20], [12, 35, 37], [13, 84, 85], [14, 48, 50], [15, 20, 25], [15, 36, 39], [16, 30, 34], [16, 63, 65], [18, 24, 30], [18, 80, 82], [20, 21, 29], [20, 48, 52], [21, 28, 35], [21, 72, 75], [24, 32, 40], [24, 45, 51], [24, 70, 74], [25, 60, 65], [27, 36, 45], [28, 45, 53], [28, 96, 100], [30, 40, 50], [30, 72, 78], [32, 60, 68], [33, 44, 55], [33, 56, 65], [35, 84, 91], [36, 48, 60], [36, 77, 85], [39, 52, 65], [39, 80, 89], [40, 42, 58], [40, 75, 85], [42, 56, 70], [45, 60, 75], [48, 55, 73], [48, 64, 80], [51, 68, 85], [54, 72, 90], [57, 76, 95], [60, 63, 87], [60, 80, 100], [65, 72, 97]]\n"
     ]
    }
   ],
   "source": [
    "a = b = c = [i**2 for i in range(101)]\n",
    "triples = []\n",
    "for i in range(1, 100):\n",
    "    for j in range(i, 100):\n",
    "        tmp_sum = a[i] + b[j]\n",
    "        if tmp_sum in c:\n",
    "            index = int(tmp_sum**(1/2))\n",
    "            triples += [(i,j,index)]\n",
    "####################################\n",
    "print(triples)\n",
    "##############\n",
    "#\n",
    "#\n",
    "#\n",
    "# SHORTEST VERSION\n",
    "p_triples = [[a,b,c] for a in range(1, 101) for b in range(1, 101) for c in range(1, 101) if a <= b < c if a**2 + b**2 - c**2 == 0]\n",
    "print(p_triples)"
   ]
  },
  {
   "cell_type": "markdown",
   "metadata": {},
   "source": [
    "9\\. Normalization\n",
    "\n",
    "Write a function that takes a tuple of numbers and returns it with the entries normalized to one"
   ]
  },
  {
   "cell_type": "code",
   "execution_count": 149,
   "metadata": {},
   "outputs": [],
   "source": [
    "def normalized(x):\n",
    "    tmp_square = [x[i]**2 for i in range(len(x))]\n",
    "    tmp_sum    = 0\n",
    "    for i in range(len(x)): tmp_sum += tmp_square[i]\n",
    "    tmp_norm   = tmp_sum**(1/2)\n",
    "    tmp_x      = [x[i]/tmp_norm for i in range(len(x))]\n",
    "    return(tmp_x)\n",
    "#################"
   ]
  }
 ],
 "metadata": {
  "kernelspec": {
   "display_name": "Python 3 (ipykernel)",
   "language": "python",
   "name": "python3"
  },
  "language_info": {
   "codemirror_mode": {
    "name": "ipython",
    "version": 3
   },
   "file_extension": ".py",
   "mimetype": "text/x-python",
   "name": "python",
   "nbconvert_exporter": "python",
   "pygments_lexer": "ipython3",
   "version": "3.12.4"
  }
 },
 "nbformat": 4,
 "nbformat_minor": 4
}
