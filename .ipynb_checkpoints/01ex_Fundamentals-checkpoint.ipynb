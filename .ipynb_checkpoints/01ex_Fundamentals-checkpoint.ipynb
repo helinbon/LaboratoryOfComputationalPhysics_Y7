{
 "cells": [
  {
   "cell_type": "markdown",
   "metadata": {},
   "source": [
    "0\\. Implement a function (whatever you want) and save it to a file (e.g. `function.py`). Import that file and use that function in this notebook.\n"
   ]
  },
  {
   "cell_type": "code",
   "execution_count": 9,
   "metadata": {},
   "outputs": [
    {
     "data": {
      "text/plain": [
       "5050"
      ]
     },
     "execution_count": 9,
     "metadata": {},
     "output_type": "execute_result"
    }
   ],
   "source": [
    "from ex_Fundamentals import function\n",
    "\n",
    "function.summation(100)"
   ]
  },
  {
   "cell_type": "markdown",
   "metadata": {},
   "source": [
    "1\\. Write the following as a list comprehension"
   ]
  },
  {
   "cell_type": "code",
   "execution_count": 11,
   "metadata": {},
   "outputs": [
    {
     "name": "stdout",
     "output_type": "stream",
     "text": [
      "[(0, 0), (0, 1), (0, 2), (0, 3), (1, 0), (1, 1), (1, 2), (1, 3), (2, 0), (2, 1), (2, 2), (2, 3)]\n",
      "[(0, 0), (0, 1), (0, 2), (0, 3), (1, 0), (1, 1), (1, 2), (1, 3), (2, 0), (2, 1), (2, 2), (2, 3)]\n",
      "[0, 4, 16]\n",
      "[0, 4, 16]\n"
     ]
    }
   ],
   "source": [
    "# 1\n",
    "ans = []\n",
    "for i in range(3):\n",
    "    for j in range(4):\n",
    "        ans.append((i, j))\n",
    "print (ans)\n",
    "###########\n",
    "\n",
    "b = [(i,j) for i in range(3) for j in range(4)]\n",
    "print(b)\n",
    "\n",
    "\n",
    "# 2\n",
    "ans = map(lambda x: x*x, filter(lambda x: x%2 == 0, range(5)))\n",
    "print (list(ans))\n",
    "#################\n",
    "\n",
    "b = [i*i for i in range(5) if i%2 == 0]\n",
    "print(b)"
   ]
  },
  {
   "cell_type": "markdown",
   "metadata": {},
   "source": [
    "2\\. Convert the following function into a pure function with no global variables or side effects"
   ]
  },
  {
   "cell_type": "code",
   "execution_count": 13,
   "metadata": {},
   "outputs": [
    {
     "name": "stdout",
     "output_type": "stream",
     "text": [
      "[1, 2, 3, 0, 1, 2, 3, 4]\n",
      "[1, 2, 3, 0, 1, 2, 3, 4]\n",
      "[1, 2, 3, 0, 1, 2, 3, 4]\n",
      "[1, 2, 3]\n"
     ]
    }
   ],
   "source": [
    "x = 5\n",
    "def f(alist):\n",
    "    for i in range(x):\n",
    "         alist.append(i)\n",
    "    return alist\n",
    "\n",
    "alist = [1,2,3]\n",
    "ans = f(alist)\n",
    "print (ans)\n",
    "print (alist) # alist has been changed!\n",
    "#############\n",
    "import copy\n",
    "\n",
    "def f(alist):\n",
    "    tmp_list = copy.deepcopy(alist)\n",
    "    for i in range(5):\n",
    "         tmp_list.append(i)\n",
    "    return tmp_list\n",
    "\n",
    "alist = [1,2,3]\n",
    "ans = f(alist)\n",
    "print (ans)\n",
    "print (alist) # alist has been changed!"
   ]
  },
  {
   "cell_type": "markdown",
   "metadata": {},
   "source": [
    "3\\. Write a `decorator` hello that makes every wrapped function print “Hello!”, i.e. something like:\n",
    "\n",
    "```python\n",
    "@hello\n",
    "def square(x):\n",
    "    return x*x\n",
    "```\n",
    "\n"
   ]
  },
  {
   "cell_type": "code",
   "execution_count": 48,
   "metadata": {},
   "outputs": [],
   "source": [
    "def hello(f):\n",
    "    def texts(x):\n",
    "        print(\"Hello\")\n",
    "        f(x)\n",
    "    ########\n",
    "    return texts\n",
    "################\n",
    "\n",
    "@hello\n",
    "def square(x):\n",
    "    print(x**2)\n",
    "###############"
   ]
  },
  {
   "cell_type": "markdown",
   "metadata": {},
   "source": [
    "4\\. Write the factorial function so that it a) does and b) does not use recursion."
   ]
  },
  {
   "cell_type": "code",
   "execution_count": 112,
   "metadata": {},
   "outputs": [
    {
     "name": "stdout",
     "output_type": "stream",
     "text": [
      "24.2 μs ± 848 ns per loop (mean ± std. dev. of 7 runs, 10,000 loops each)\n",
      "11.6 μs ± 97.1 ns per loop (mean ± std. dev. of 7 runs, 100,000 loops each)\n"
     ]
    }
   ],
   "source": [
    "#RECURSION VERSION\n",
    "def a_factorial(x):\n",
    "    if x <= 0:\n",
    "        return 1\n",
    "    else:\n",
    "        x *= a_factorial(x - 1)\n",
    "    return x\n",
    "############\n",
    "\n",
    "#WITHOUT RECURSION\n",
    "def b_factorial(x):\n",
    "    y = 1\n",
    "    while x > 0:\n",
    "        y *= x\n",
    "        x -= 1\n",
    "    return y\n",
    "############\n",
    "\n",
    "%timeit a_factorial(156)\n",
    "%timeit b_factorial(156)"
   ]
  },
  {
   "cell_type": "markdown",
   "metadata": {},
   "source": [
    "5\\. Use HOFs (zip in particular) to compute the weight of a circle, a disk and a sphere, assuming different radii and different densities:\n",
    "\n",
    "```python\n",
    "densities = {\"Al\":[0.5,1,2],\"Fe\":[3,4,5],\"Pb\": [15,20,30]}\n",
    "radii = [1,2,3]\n",
    "```\n",
    "\n",
    "where the entries of the dictionary's values are the linear, superficial and volumetric densities of the materials respectively.\n",
    "\n",
    "In particular define a list of three lambda functions using a comprehension that computes the circumference, the area and the volume for a given radius.\n"
   ]
  },
  {
   "cell_type": "code",
   "execution_count": 195,
   "metadata": {},
   "outputs": [
    {
     "name": "stdout",
     "output_type": "stream",
     "text": [
      "1 : {'Al': [3.1415, 3.1415, 8.3775], 'Fe': [18.8495, 12.5663, 20.9439], 'Pb': [94.2477, 62.8318, 125.6635]}\n",
      "2 : {'Al': [6.2831, 12.5663, 67.0205], 'Fe': [37.699, 50.2654, 167.5514], 'Pb': [188.4954, 251.3272, 1005.3087]}\n",
      "3 : {'Al': [9.4247, 28.2743, 226.1944], 'Fe': [56.5486, 113.0972, 565.4861], 'Pb': [282.743, 565.4862, 3392.9171]}\n"
     ]
    }
   ],
   "source": [
    "import copy\n",
    "\n",
    "pi = 3.14159\n",
    "densities = {\"Al\":[0.5,1,2],\"Fe\":[3,4,5],\"Pb\": [15,20,30]}\n",
    "radii = [1,2,3]\n",
    "\n",
    "lambdas = [lambda x, i = i, j = j: (pi * i * (x ** j)) for (i, j) in zip([2, 1, (4/3)], range(1,4))]\n",
    "\n",
    "results = {}\n",
    "for radius in radii:\n",
    "    weights = copy.deepcopy(densities)\n",
    "    for element, values in densities.items():\n",
    "        tmp_values = [\n",
    "            (int((lambdas[0](radius) * values[0])*10000))/10000, #circle\n",
    "            (int((lambdas[1](radius) * values[1])*10000))/10000, #disk\n",
    "            (int((lambdas[2](radius) * values[2])*10000))/10000  #sphere\n",
    "        ]                                                        #fixed_radius + fixed_element\n",
    "        weights[element] = tmp_values\n",
    "    results = results | {radius : weights}\n",
    "##########################################\n",
    "for key in results.keys():\n",
    "    print(key, \":\", results[key])\n",
    "#################################"
   ]
  },
  {
   "cell_type": "markdown",
   "metadata": {},
   "source": [
    "6\\. Edit the class defintion to add an instance attribute of is_hungry = True to the Dog class. Then add a method called eat() which changes the value of is_hungry to False when called. Figure out the best way to feed each dog and then output “My dogs are hungry.” if all are hungry or “My dogs are not hungry.” if all are not hungry. The final output should look like this:\n",
    "\n",
    "`I have 3 dogs. \n",
    "Tom is 6. \n",
    "Fletcher is 7. \n",
    "Larry is 9. \n",
    "And they're all mammals, of course. \n",
    "My dogs are not hungry.\n",
    "`\n",
    "\n",
    "```python\n",
    "# Parent class\n",
    "class Dog:\n",
    "\n",
    "    # Class attribute\n",
    "    species = 'mammal'\n",
    "\n",
    "    # Initializer / Instance attributes\n",
    "    def __init__(self, name, age):\n",
    "        self.name = name\n",
    "        self.age = age\n",
    "\n",
    "    # instance method\n",
    "    def description(self):\n",
    "        return \"{} is {} years old\".format(self.name, self.age)\n",
    "\n",
    "    # instance method\n",
    "    def speak(self, sound):\n",
    "        return \"{} says {}\".format(self.name, sound)\n",
    "\n",
    "# Child class (inherits from Dog class)\n",
    "class RussellTerrier(Dog):\n",
    "    def run(self, speed):\n",
    "        return \"{} runs {}\".format(self.name, speed)\n",
    "\n",
    "# Child class (inherits from Dog class)\n",
    "class Bulldog(Dog):\n",
    "    def run(self, speed):\n",
    "        return \"{} runs {}\".format(self.name, speed)\n",
    "```"
   ]
  },
  {
   "cell_type": "code",
   "execution_count": 193,
   "metadata": {},
   "outputs": [
    {
     "name": "stdout",
     "output_type": "stream",
     "text": [
      "dog not found!\n"
     ]
    },
    {
     "data": {
      "text/plain": [
       "\"I have 4 dogs.  Tom is 6. Fletcher is 7. Larry is 9. Another is 12. And they're all mammals, of course. My dogs are not hungry\""
      ]
     },
     "execution_count": 193,
     "metadata": {},
     "output_type": "execute_result"
    }
   ],
   "source": [
    "# Parent class\n",
    "class Dog:\n",
    "\n",
    "    # Class attribute\n",
    "    species = 'mammal'\n",
    "\n",
    "    # Initializer / Instance attributes\n",
    "    def __init__(self, name, age):\n",
    "        self.name      = name\n",
    "        self.age       = age\n",
    "        self.is_hungry = True\n",
    "\n",
    "    # instance method\n",
    "    def description(self):\n",
    "        return \"{} is {} years old\".format(self.name, self.age)\n",
    "\n",
    "    # instance method\n",
    "    def speak(self, sound):\n",
    "        return \"{} says {}\".format(self.name, sound)\n",
    "\n",
    "    # instance method\n",
    "    def eat(self):\n",
    "        self.is_hungry = False\n",
    "\n",
    "# Child class (inherits from Dog class)\n",
    "class RussellTerrier(Dog):\n",
    "    def run(self, speed):\n",
    "        return \"{} runs {}\".format(self.name, speed)\n",
    "\n",
    "# Child class (inherits from Dog class)\n",
    "class Bulldog(Dog):\n",
    "    def run(self, speed):\n",
    "        return \"{} runs {}\".format(self.name, speed)\n",
    "\n",
    "class MyDogs():\n",
    "    def __init__(self):\n",
    "        self.elems = []\n",
    "\n",
    "    def addDogs(self, dog):\n",
    "        try:\n",
    "            for elem in dog:\n",
    "                self.elems += [elem]\n",
    "        except:\n",
    "            self.elems += [dog]\n",
    "\n",
    "    def feed(self, name = None):\n",
    "        for elem in self.elems + [None]:\n",
    "            try:\n",
    "                if elem.name == name or name == None:\n",
    "                    elem.eat()\n",
    "            except:\n",
    "                print(\"dog not found!\")\n",
    "    \n",
    "    def ifAreHungry(self):\n",
    "        stateHungry, stateNotHungry = True, True\n",
    "        for elem in self.elems:\n",
    "            stateHungry    = stateHungry and elem.is_hungry\n",
    "            stateNotHungry = stateNotHungry and not elem.is_hungry\n",
    "        if stateHungry:\n",
    "            return \"My dogs are hungry\"\n",
    "        elif stateNotHungry:\n",
    "            return \"My dogs are not hungry\"\n",
    "        else:\n",
    "            return \"\"\n",
    "\n",
    "    def listOfNames(self):\n",
    "        queue = \"\"\n",
    "        for elem in self.elems:\n",
    "            queue += \" \" + elem.name + \" is \" + str(elem.age) + \".\"\n",
    "        return queue\n",
    "    \n",
    "    def presentation(self):\n",
    "        howMany = len(self.elems)\n",
    "        return \"I have {} dogs. {} And they're all mammals, of course. {}\".format(howMany, self.listOfNames(), self.ifAreHungry())\n",
    "\n",
    "dogs = MyDogs()\n",
    "dogs.addDogs([Dog(\"Tom\", 6), Dog(\"Fletcher\", 7), Dog(\"Larry\", 9), Dog(\"Another\", 12)])\n",
    "dogs.feed()\n",
    "dogs.presentation()"
   ]
  },
  {
   "cell_type": "code",
   "execution_count": null,
   "metadata": {},
   "outputs": [],
   "source": []
  }
 ],
 "metadata": {
  "kernelspec": {
   "display_name": "Python 3 (ipykernel)",
   "language": "python",
   "name": "python3"
  },
  "language_info": {
   "codemirror_mode": {
    "name": "ipython",
    "version": 3
   },
   "file_extension": ".py",
   "mimetype": "text/x-python",
   "name": "python",
   "nbconvert_exporter": "python",
   "pygments_lexer": "ipython3",
   "version": "3.12.4"
  }
 },
 "nbformat": 4,
 "nbformat_minor": 4
}
