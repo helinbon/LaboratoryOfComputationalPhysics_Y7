{
 "cells": [
  {
   "cell_type": "markdown",
   "id": "b5746bd0",
   "metadata": {},
   "source": [
    "The following exercises are meant to be solved by gathering the bash commands incrimentally in two scripts, one for ex 1.* the other for ex 2.* "
   ]
  },
  {
   "cell_type": "markdown",
   "id": "4e60de78",
   "metadata": {},
   "source": [
    "### Ex 1"
   ]
  },
  {
   "cell_type": "markdown",
   "id": "6759df36",
   "metadata": {},
   "source": [
    "1\\.a Make a new directory called `students` in your home. Download a csv file with the list of students of this lab from [here](https://www.dropbox.com/s/867rtx3az6e9gm8/LCP_22-23_students.csv) (use the `wget` command) and copy that to `students`. First check whether the file is already there"
   ]
  },
  {
   "cell_type": "markdown",
   "id": "894ef2c5-26f9-4722-9fcf-f01561120337",
   "metadata": {},
   "source": [
    "```bash\n",
    "cd $HOME\n",
    "mkdir students\n",
    "wget https://www.dropbox.com/s/867rtx3az6e9gm8/LCP_22-23_students.csv\n",
    "find students -name \"LCP_22-23_students.csv\"\n",
    "cp LCP_22-23_students.csv students/LCP_22-23_students.csv\n",
    "```"
   ]
  },
  {
   "cell_type": "markdown",
   "id": "798c0c9d",
   "metadata": {},
   "source": [
    "1\\.b Make two new files, one containing the students belonging to PoD, the other to Physics."
   ]
  },
  {
   "cell_type": "markdown",
   "id": "ada8ba6d-56a0-479e-893e-07d426d5e19c",
   "metadata": {},
   "source": [
    "```bash\n",
    "grep \"PoD\" LCP_22-23_students.csv > from_PoD.csv\n",
    "grep \"Physics\" LCP_22-23_students.csv > from_Physics.csv\n",
    "```"
   ]
  },
  {
   "cell_type": "markdown",
   "id": "8a43d622",
   "metadata": {},
   "source": [
    "1\\.c For each letter of the alphabet, count the number of students whose surname starts with that letter. "
   ]
  },
  {
   "cell_type": "markdown",
   "id": "2008d7ef-b27b-4537-a48b-0c0d351b844e",
   "metadata": {},
   "source": [
    "```bash\n",
    "for letter in {a..z}; do echo -n \"$letter: \"; grep -c -i \"^$letter\" LCP_22-23_students.csv; done;\n",
    "```"
   ]
  },
  {
   "cell_type": "markdown",
   "id": "4ba6bc90",
   "metadata": {},
   "source": [
    "1\\.d Find out which is the letter with most counts."
   ]
  },
  {
   "cell_type": "markdown",
   "id": "2d12c9bb-ad17-40a7-8aff-0c9a80a309ac",
   "metadata": {},
   "source": [
    "```bash\n",
    "count_max=0\n",
    "for letter in {a..z}; do\n",
    "    count=$(grep -c -i \"^$letter\" LCP_22-23_students.csv);\n",
    "    if [ $count -gt $count_max ]; then\n",
    "        count_max=$count;\n",
    "        letter_max=$letter;\n",
    "        fi;\n",
    "    done;\n",
    "echo \"the letter with most count is '$letter_max' with '$count_max' occurences\"\n",
    "```"
   ]
  },
  {
   "cell_type": "markdown",
   "id": "086a043c",
   "metadata": {},
   "source": [
    "1\\.e Assume an obvious numbering of the students in the file (first line is 1, second line is 2, etc.), group students \"modulo 18\", i.e. 1,19,37,.. 2,20,38,.. etc. and put each group in a separate file  "
   ]
  },
  {
   "cell_type": "markdown",
   "id": "26c5ff0c-abf2-43a5-b467-dc6c32e88482",
   "metadata": {},
   "source": [
    "```bash\n",
    "i=0\n",
    "sed -n '4p' LCP_22-23_students.csv\n",
    "```"
   ]
  },
  {
   "cell_type": "markdown",
   "id": "1d730d21",
   "metadata": {},
   "source": [
    "### Ex 2"
   ]
  },
  {
   "cell_type": "markdown",
   "id": "4b87ecb7",
   "metadata": {},
   "source": [
    "2.a Make a copy of the file `data.csv` removing the metadata and the commas between numbers; call it `data.txt`"
   ]
  },
  {
   "cell_type": "markdown",
   "id": "70facb4e-4fcc-4d6c-b84a-f242c1fe88a9",
   "metadata": {},
   "source": [
    "```bash\n",
    "# cat data.csv | sed 's/,/ /g' > data.txt\n",
    "grep -v \"^#\" data.csv | sed 's/,//g' > data.txt\n",
    "```"
   ]
  },
  {
   "cell_type": "markdown",
   "id": "344048c8",
   "metadata": {},
   "source": [
    "2\\.b How many even numbers are there?"
   ]
  },
  {
   "cell_type": "markdown",
   "id": "df6fb38d-86c3-4ca3-9014-8c78f7f4506e",
   "metadata": {},
   "source": [
    "```bash\n",
    "i=0\n",
    "for n in $(grep -oE '[0-9]+' data.txt); do\n",
    "    if ((n%2==0)); then\n",
    "        ((i++))\n",
    "    fi\n",
    "done\n",
    "\n",
    "echo $i\n",
    "```"
   ]
  },
  {
   "cell_type": "markdown",
   "id": "2a27138d",
   "metadata": {},
   "source": [
    "2\\.c Distinguish the entries on the basis of `sqrt(X^2 + Y^2 + Z^2)` is greater or smaller than `100*sqrt(3)/2`. Count the entries of each of the two groups "
   ]
  },
  {
   "cell_type": "markdown",
   "id": "9debf715-8558-4ae4-83d4-c2fd57da1da2",
   "metadata": {},
   "source": [
    "```bash\n",
    "ts=$(echo '100*(e(l(3)*0.5))/2' | bc -l)\n",
    "inside1=0\n",
    "inside2=0\n",
    "i=0\n",
    "for line in $(cat data.txt); do\n",
    "    for n in $line; do\n",
    "        ((i++))\n",
    "        if   [ $i -eq 1 ]; then\n",
    "            X1=$n\n",
    "        elif [ $i -eq 2 ]; then\n",
    "            Y1=$n\n",
    "        elif [ $i -eq 3 ]; then\n",
    "            Z1=$n\n",
    "        elif [ $i -eq 4 ]; then\n",
    "            X2=$n\n",
    "        elif [ $i -eq 5 ]; then\n",
    "            Y2=$n\n",
    "        elif [ $i -eq 6 ]; then\n",
    "            Z2=$n\n",
    "            #\n",
    "            R1=$(echo \"sqrt($X1^2 + $Y1^2 + $Z1^2)\" | bc -l)\n",
    "            R2=$(echo \"sqrt($X2^2 + $Y2^2 + $Z2^2)\" | bc -l)\n",
    "            if (( $(echo \"$R1 <= $ts\" | bc -l) )); then\n",
    "                ((inside1++))\n",
    "            fi\n",
    "            if (( $(echo \"$R2 <= $ts\" | bc -l) )); then\n",
    "                ((inside2++))\n",
    "            fi\n",
    "            #\n",
    "            i=0\n",
    "        fi\n",
    "        #\n",
    "    done\n",
    "    #\n",
    "done\n",
    "```"
   ]
  },
  {
   "cell_type": "markdown",
   "id": "e937ef4e",
   "metadata": {},
   "source": [
    "2\\.d Make `n` copies of data.txt (with `n` an input parameter of the script), where the i-th copy has all the numbers divided by i (with `1<=i<=n`)."
   ]
  },
  {
   "cell_type": "markdown",
   "id": "8ed967e3-2b3e-4ed4-bace-5aefb9b8270a",
   "metadata": {},
   "source": [
    "```bash\n",
    "echo \"write n:\"\n",
    "read n\n",
    "#\n",
    "for ((i=1; i<=$n; i++)); do\n",
    "    out_file=\"data_$i.txt\"\n",
    "    while read -r line; do\n",
    "        line_tmp=\"\"\n",
    "        for k in $line; do\n",
    "            w=$(echo \"scale=3; $k / $i\" | bc -l)\n",
    "            line_tmp=\"$line_tmp $w\"\n",
    "        done\n",
    "        echo \"$line_tmp\" >> \"$out_file\"\n",
    "    done < data.txt\n",
    "done\n",
    "```"
   ]
  }
 ],
 "metadata": {
  "kernelspec": {
   "display_name": "Python 3 (ipykernel)",
   "language": "python",
   "name": "python3"
  },
  "language_info": {
   "codemirror_mode": {
    "name": "ipython",
    "version": 3
   },
   "file_extension": ".py",
   "mimetype": "text/x-python",
   "name": "python",
   "nbconvert_exporter": "python",
   "pygments_lexer": "ipython3",
   "version": "3.12.4"
  }
 },
 "nbformat": 4,
 "nbformat_minor": 5
}
